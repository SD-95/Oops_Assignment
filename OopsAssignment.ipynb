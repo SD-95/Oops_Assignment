{
 "cells": [
  {
   "cell_type": "markdown",
   "metadata": {},
   "source": [
    "# OOPS Assignment  Questions and Answer \n",
    "##### Date 27.09.2024"
   ]
  },
  {
   "cell_type": "markdown",
   "metadata": {},
   "source": [
    "### 1. What are the five key concepts of Object-Oriented Programming (OOP)?"
   ]
  },
  {
   "cell_type": "raw",
   "metadata": {
    "vscode": {
     "languageId": "raw"
    }
   },
   "source": [
    "The key concepts of Object-Oriented Programming (OOP) are:\n",
    "\n",
    "Inheritance:\n",
    "\n",
    "  -> Inheritance refers to process of children classes receiving the properties of parent class.\n",
    "  -> it also promotes the code reusability and establishes a relation between parent and children and their properties.\n",
    "  -> there are many type of Inheritance\n",
    "\n",
    "      1. single Inheritance       :  when a children class having only one parent class.\n",
    "      2. multi level Inheritance  :  creating a chain of inheritance across multiple levels.\n",
    "      3. multiple Inheritance     :  One child class may inherit the property of multiple parent class.\n",
    "      4. diamond problem          :  This occurs when a class inherit from 2 or more than 2 class will lead to ambiguity in execution of method.\n",
    "      5. hierarchical Inheritance :  multiple more than two child class\n",
    "      6. hybrid Inheritance       :  multiple types of combination of different inheritance.\n",
    "\n",
    "Polymorphism:\n",
    "\n",
    "  -> it refers to an object taking several forms depending on the methods / data.\n",
    "  -> in Oops concept Polymorphism takes places in two ways\n",
    "      1. method overloading  :  method overloading happen in the same class.\n",
    "      2. method overriding   :  method in parent class and child class method will be executed.\n",
    "  -> in python does not support  true method overloading.\n",
    "\n",
    "Encapsulation:\n",
    "\n",
    "  -> This is bundling data/attributes and methods/functions that operate on the data into a single unit, called an object.\n",
    "  -> Encapsulation restricts direct access to some of an object's components and only exposes a controlled interface to interact with them.\n",
    "  -> it having access modifiers\n",
    "     1. public \n",
    "     2. private (__)\n",
    "     3. protected (_)\n",
    "\n",
    "Abstraction:\n",
    "\n",
    "  -> Concept of hiding complex implimentation\n",
    "  -> hiding unneeeded details and exposing the required\n",
    "  -> abstract class can not be instantiated (can not make object)\n",
    "  -> abstract class should always be subclassed.\n",
    "  -> abstract class may contain methods that are just declared and not implemented in abstract class itself, subclass are responsible for implementing these abstract methods\n",
    "  -> abstraction can be achieved using abstract class\n",
    "  -> we need to import abc module for the use cases of abstraction concepts\n"
   ]
  },
  {
   "cell_type": "markdown",
   "metadata": {},
   "source": [
    "### 2. Write a Python class for a `Car` with attributes for `make`, `model`, and `year`. Include a method to display the car's information."
   ]
  },
  {
   "cell_type": "code",
   "execution_count": 11,
   "metadata": {},
   "outputs": [
    {
     "name": "stdout",
     "output_type": "stream",
     "text": [
      "Here is the car information: The car name is maruti with car model Suzuki S Cross get manufacture on 2009\n"
     ]
    }
   ],
   "source": [
    "class car:\n",
    "    def __init__(self, make, model, year):\n",
    "        self.car_name = make\n",
    "        self.car_model = model\n",
    "        self.car_year_mfg = year\n",
    "        \n",
    "    def car_information_display(self):\n",
    "        print('Here is the car information:', 'The car name is', car_information.car_name, 'with car model', car_information.car_model, 'get manufacture on', car_information.car_year_mfg )    \n",
    "\n",
    "car_information = car('maruti', 'Suzuki S Cross', '2009')\n",
    "\n",
    "car_information.car_information_display()"
   ]
  },
  {
   "cell_type": "markdown",
   "metadata": {},
   "source": [
    "###  3. Explain the difference between instance methods and class methods. Provide an example of each."
   ]
  },
  {
   "cell_type": "raw",
   "metadata": {
    "vscode": {
     "languageId": "raw"
    }
   },
   "source": [
    " Instance Method: \n",
    "\n",
    "1.  These are associated with individual objects of a class.            \n",
    "2.  They access and modify the object's attributes and can be called only on specific instances.\n",
    "3.  Operate on specific instances of a class.\n",
    "4.  Can access both instance and class attributes.\n",
    "5.   Defined within the class, using the `self` parameter to refer to the current instance.\n",
    "\n",
    "     example:  \n",
    "             class profile:\n",
    "                    def __init__(self, name, age):\n",
    "                        self.profile_name = name\n",
    "                        self.profile_age = age\n",
    "                    \n",
    "                    def view_profile(self):\n",
    "                        print('this is', self.profile_name, 'and my age is', self.profile_age )\n",
    "        \n",
    "profile_obj = profile('Somesh', 28)\n",
    "profile_obj.view_profile()\n",
    "\n",
    "\n",
    "\n",
    "Class Method:\n",
    "\n",
    "1.  These are associated with the class itself, not with individual objects.\n",
    "2.  They can be called on the class directly and have access to the class's attributes.\n",
    "3.  Operate on the class itself, not on individual instances.\n",
    "4.  Can access only class attributes.\n",
    "5.  Defined within the class, using the `cls` parameter to refer to the class itself. Decorated with `@classmethod`.\n",
    "\n",
    "    example: \n",
    "        class school:\n",
    "            total_student = 0\n",
    "            def __init__(self, name):\n",
    "                self.student_name = name\n",
    "                school.total_student = school.total_student + 1\n",
    "                \n",
    "            @classmethod\n",
    "            def get_school_student(cls):\n",
    "                return cls.total_student\n",
    "    \n",
    "get_school1 = school('Saraswati Sishu mandir')\n",
    "get_school2 = school('Sikhshya Niketan')\n",
    "get_school3 = school('St. Xavier international')\n",
    "\n",
    "print('from which school are you from', get_school1.student_name, 'or' , get_school2.student_name, 'or', get_school3.student_name)\n",
    "\n",
    "school.total_student"
   ]
  },
  {
   "cell_type": "markdown",
   "metadata": {},
   "source": [
    "###  4. How does Python implement method overloading? Give an example."
   ]
  },
  {
   "cell_type": "code",
   "execution_count": 34,
   "metadata": {},
   "outputs": [
    {
     "name": "stdout",
     "output_type": "stream",
     "text": [
      "Hello !! this is student Somesh datascience 6 month\n"
     ]
    }
   ],
   "source": [
    "'''    \n",
    "  -> Python does not directly implement method overloading.\n",
    "  -> re-writing / re-defining methods of parent class in children class\n",
    "  -> child class is very powerfull.\n",
    "'''  \n",
    "\n",
    "class Student:\n",
    "    def student_one(self, name='', course='', duration=''):\n",
    "        print('Hello !! this is student', name, course, duration)\n",
    "\n",
    "obj = Student()\n",
    "obj.student_one('Somesh', 'datascience', '6 month')"
   ]
  },
  {
   "cell_type": "markdown",
   "metadata": {},
   "source": [
    "###  5. What are the three types of access modifiers in Python? How are they denoted?"
   ]
  },
  {
   "cell_type": "raw",
   "metadata": {
    "vscode": {
     "languageId": "raw"
    }
   },
   "source": [
    "There are three type of access modifier in oops as follows;\n",
    "\n",
    "    1. public\n",
    "-----------------\n",
    "       -> accessible from anywhere from outside / inside of class.\n",
    "       -> no keyward is used here\n",
    "        example:\n",
    "\n",
    "            class student:\n",
    "                def __init__(self, name, course, institute):\n",
    "                    self.student_name = name\n",
    "                    self.student_course = course\n",
    "                    self.student_institute = institute\n",
    "                    \n",
    "                def profile_show(self):    \n",
    "                    print('hello this is', self.student_name, 'persuing a course', self.student_course, 'at this inistitute', self.student_institute)\n",
    "            new_profile = student('Somesh','data-science','PW skills')\n",
    "            print(new_profile.profile_show())\n",
    "            print(new_profile.student_name.upper())\n",
    "            print(new_profile.student_course)\n",
    "            print(new_profile.student_institute)\n",
    "\n",
    "    2. private\n",
    "-----------------\n",
    "        -> the data and method is only accessible with inits class\n",
    "        -> private modifier use double underscores (__).\n",
    "          example:\n",
    "\n",
    "            class student:\n",
    "                def __init__(self, name, course, institute):\n",
    "                    self.__student_name = name\n",
    "                    self.__student_course = course\n",
    "                    self.__student_institute = institute\n",
    "                    \n",
    "                def profile_show(self):    \n",
    "                    print('hello this is', self.__student_name, 'persuing a course', self.__student_course, 'at this inistitute', self.__student_institute)\n",
    "            new_profile = student('Somesh','data-science','PW skills')\n",
    "            new_profile.profile_show()\n",
    "\n",
    "    if want to access the data directly then we should access using the classname\n",
    "\n",
    "                print(new_profile._student__student_course)\n",
    "                print(new_profile._student__student_name)\n",
    "                print(new_profile._student__student_institute)        \n",
    "\n",
    "    3. protected\n",
    "-----------------\n",
    "        -> with in the class and its sub-class, protected member can be access\n",
    "        -> protected modifier use single underscores (_).\n",
    "          example:\n",
    "\n",
    "          class college:\n",
    "                def __init__(self):\n",
    "                    self._name_of_college = 'Berhampur University'\n",
    "            class student(college):\n",
    "                def __init__(self, name):\n",
    "                    self.student_name = name\n",
    "                    college.__init__(self) \n",
    "                    \n",
    "                def profile_view(self):\n",
    "                    print('My name is', self.student_name, 'from college', self._name_of_college)\n",
    "                    \n",
    "            info = student('somesh')\n",
    "            info1 = college()\n",
    "            info._name_of_college\n",
    "            info.profile_view()\n",
    "            info1._name_of_college\n"
   ]
  },
  {
   "cell_type": "markdown",
   "metadata": {},
   "source": [
    "### 6. Describe the five types of inheritance in Python. Provide a simple example of multiple inheritance."
   ]
  },
  {
   "cell_type": "raw",
   "metadata": {
    "vscode": {
     "languageId": "raw"
    }
   },
   "source": [
    "Inheritance:\n",
    "\n",
    "  -> Inheritance refers to process of children classes receiving the properties of parent class.\n",
    "  -> it also promotes the code reusability and establishes a relation between parent and children and their properties.\n",
    "  -> there are many type of Inheritance\n",
    "\n",
    "      1. single Inheritance       :  when a children class having only one parent class.\n",
    "      ______________________\n",
    "\n",
    "         example:\n",
    "\n",
    "         class Father:\n",
    "            def father_property(self):\n",
    "                print('this is father property')\n",
    "\n",
    "        class Children(Father):\n",
    "            def children_property(self):\n",
    "                print('this is children property')\n",
    "                \n",
    "        property_of = Children()\n",
    "\n",
    "        property_of.father_property()\n",
    "        property_of.children_property()\n",
    "\n",
    "      2. multi level Inheritance  :  creating a chain of inheritance across multiple levels.\n",
    "        _________________________\n",
    "         example:\n",
    "\n",
    "         class Father:\n",
    "            def father_property(self):\n",
    "                print('this is father property')\n",
    "                \n",
    "        class Children(Father):\n",
    "            def children_property(self):\n",
    "                print('this is children property')\n",
    "\n",
    "        class chldren_sub(Children):\n",
    "            def father_property(self):\n",
    "                print('this is father property ha ha ha')\n",
    "\n",
    "            def children_sub_property(self):\n",
    "                print('this is grand children property')\n",
    "                \n",
    "        property_holder = chldren_sub()\n",
    "        property_holder.father_property()\n",
    "\n",
    "      3. multiple Inheritance     :  One child class may inherit the property of multiple parent class.\n",
    "        ______________________\n",
    "         example:\n",
    "\n",
    "         class Father:\n",
    "            def father_property(self):\n",
    "                print('this is father property')\n",
    "\n",
    "        class Children:\n",
    "            def children_property(self):\n",
    "                print('this is children property')\n",
    "\n",
    "        class chldren_sub(Father, Children):\n",
    "            def children_sub_property(self): \n",
    "                print('this is grand children property')\n",
    "                \n",
    "        new_property = chldren_sub()\n",
    "        new_property.children_sub_property()\n",
    "        new_property.children_property()\n",
    "        new_property.father_property()\n",
    "\n",
    "      4. diamond problem          :  This occurs when a class inherit from 2 or more than 2 class will lead to ambiguity in execution of method.\n",
    "        ______________________\n",
    "         example:\n",
    "\n",
    "         class parent1:\n",
    "             def father_property(self):\n",
    "                 print('this is father property ha ')\n",
    "\n",
    "         class parent2:\n",
    "             def father_property(self):\n",
    "                print('this is children property ha ha hA')\n",
    "\n",
    "         class chldren_sub(parent2, parent1):   ## change here which one want first to print\n",
    "             def children_sub_property(self): \n",
    "                print('this is grand children property')\n",
    "                \n",
    "         new_property = chldren_sub()\n",
    "         new_property.father_property()\n",
    "\n",
    "      5. hierarchical Inheritance :  multiple more than two child class\n",
    "      _____________________________\n",
    "         example:\n",
    "\n",
    "         class vehicle:\n",
    "             def info(self):\n",
    "                print('this is a info')\n",
    "\n",
    "         class car(vehicle):\n",
    "             def car_info(self, name):\n",
    "                print('this is a car-info', name)\n",
    "\n",
    "         class truck(car):\n",
    "             def truck_info(self, name):\n",
    "                print('this is a truck-info', name)\n",
    "\n",
    "        vehicle_information = truck()\n",
    "\n",
    "        vehicle_information.truck_info('Macropolo')\n",
    "\n",
    "      6. hybrid Inheritance       :  multiple types of combination of different inheritance.\n",
    "      ______________________\n",
    "         example:\n",
    "\n",
    "        class vehicle:\n",
    "            def info(self):\n",
    "                    print('this is a info')\n",
    "\n",
    "        class car(vehicle):\n",
    "            def car_info(self, name):\n",
    "                print('this is a car-info', name)\n",
    "\n",
    "        class truck(car):\n",
    "            def truck_info(self, name):\n",
    "                print('this is a truck-info', name)\n",
    "\n",
    "        class sports_car(car, vehicle):\n",
    "            def sports_info(self, name):\n",
    "                print('this is a sports-info', name)\n",
    "\n",
    "        brand_info = sports_car()\n",
    "        brand_info.car_info('maruti')\n",
    "        brand_info.info()\n",
    "        brand_info.sports_info('lamborghini')"
   ]
  },
  {
   "cell_type": "markdown",
   "metadata": {},
   "source": [
    "### 7. What is the Method Resolution Order (MRO) in Python? How can you retrieve it programmatically?"
   ]
  },
  {
   "cell_type": "code",
   "execution_count": 39,
   "metadata": {},
   "outputs": [
    {
     "name": "stdout",
     "output_type": "stream",
     "text": [
      "This is property of B\n"
     ]
    }
   ],
   "source": [
    "'''\n",
    "-> To remove the diamond problem, python uses a method resoluction order (MRO) algorithms called c3 linearization.\n",
    "-> it means that the class that is inherited first in the derived class, that method will be executed first.\n",
    "  \n",
    "'''  \n",
    "class A:\n",
    "    def A_property(self):\n",
    "        print('This is property of A')\n",
    "\n",
    "class B(A):\n",
    "    def B_property(self):\n",
    "        print('This is property of B')\n",
    "\n",
    "class C(A):   \n",
    "    def B_property(self): \n",
    "        print('This is property of C')\n",
    "\n",
    "class D(B, C):                           ## we need to change here which one want first to print\n",
    "    pass\n",
    "        \n",
    "Tizori = D()\n",
    "Tizori.B_property()"
   ]
  },
  {
   "cell_type": "markdown",
   "metadata": {},
   "source": [
    "### 8. Create an abstract base class `Shape` with an abstract method `area()`. Then create two subclasses `Circle` and `Rectangle` that implement the area()` method."
   ]
  },
  {
   "cell_type": "code",
   "execution_count": null,
   "metadata": {},
   "outputs": [],
   "source": [
    "class Shape:\n",
    "    def area(self):\n",
    "        pass  \n",
    "\n",
    "class Circle(Shape):\n",
    "    def __init__(self, radius):\n",
    "        self.radius = radius\n",
    "\n",
    "    def area(self):\n",
    "        return 3.14 * self.radius ** 2\n",
    "\n",
    "class Rectangle(Shape):\n",
    "    def __init__(self, length, width):\n",
    "        self.length = length\n",
    "        self.width = width\n",
    "\n",
    "    def area(self):\n",
    "        return self.length * self.width\n",
    "\n",
    "\n",
    "circle = Circle(5)\n",
    "rectangle = Rectangle(4, 3)\n",
    "\n",
    "print(circle.area())  \n",
    "print(rectangle.area()) "
   ]
  },
  {
   "cell_type": "markdown",
   "metadata": {},
   "source": [
    "### 9. Demonstrate polymorphism by creating a function that can work with different shape objects to calculate and print their areas."
   ]
  },
  {
   "cell_type": "code",
   "execution_count": 20,
   "metadata": {},
   "outputs": [
    {
     "name": "stdout",
     "output_type": "stream",
     "text": [
      "The area of the rectngl is 20\n",
      "The area of the circle is 78.5\n",
      "The area of the tringl is 3.0\n"
     ]
    }
   ],
   "source": [
    "class Shape:\n",
    "    def area(self):\n",
    "        pass\n",
    "\n",
    "class rectngl(Shape):\n",
    "    def __init__(self, length, width):\n",
    "        self.length = length\n",
    "        self.width = width\n",
    "\n",
    "    def area(self):\n",
    "        return self.length * self.width\n",
    "\n",
    "class circle(Shape):\n",
    "    def __init__(self, radius):\n",
    "        self.radius = radius\n",
    "\n",
    "    def area(self):\n",
    "        return 3.14 * self.radius * self.radius\n",
    "\n",
    "class tringl(Shape):\n",
    "    def __init__(self, base, height):\n",
    "        self.base = base\n",
    "        self.height = height\n",
    "\n",
    "    def area(self):\n",
    "        return 0.5 * self.base * self.height\n",
    "\n",
    "\n",
    "def print_area(shape):\n",
    "        area = shape.area()\n",
    "        print(f\"The area of the {shape.__class__.__name__} is {area}\")\n",
    "        \n",
    "find_rectngl = rectngl(4, 5)\n",
    "find_circle =  circle(5)\n",
    "find_tringl =  tringl(3,2)\n",
    "\n",
    "print_area(find_rectngl)\n",
    "print_area(find_circle)\n",
    "print_area(find_tringl)\n",
    "    "
   ]
  },
  {
   "cell_type": "markdown",
   "metadata": {},
   "source": [
    "### 10. Implement encapsulation in a `BankAccount` class with private attributes for `balance` and `account_number`. Include methods for deposit, withdrawal, and balance inquiry"
   ]
  },
  {
   "cell_type": "code",
   "execution_count": 23,
   "metadata": {},
   "outputs": [],
   "source": [
    "class Bank_account:\n",
    "    def __init__(self,name, account_number, default_amount):\n",
    "        self.custr_name = name\n",
    "        self.__custr_acc_num = account_number\n",
    "        self.__custr_bal = default_amount\n",
    "        \n",
    "    def balance_inquiry(self):\n",
    "        if len(self.__custr_acc_num) != 11:\n",
    "            return \"Invalid account number. account number should be 11 digit only.\"\n",
    "        \n",
    "        if self.__custr_bal < 500:\n",
    "            return \"Opening balance should not be less than 500.\"\n",
    "        \n",
    "        return f\"Customer name: {self.custr_name}, customer account number: {self.__custr_acc_num}, available balance: {self.__custr_bal}\"\n",
    "    \n",
    "    def deposite_amount(self, depo_amount):\n",
    "        self.__custr_bal = self.__custr_bal + depo_amount\n",
    "        \n",
    "        return f'your account has been credited with amount {depo_amount}, now your available balance is {self.__custr_bal}'\n",
    "    \n",
    "    def draw_amount(self, draw_amt):\n",
    "        if self.__custr_bal >= draw_amt:\n",
    "            self.__custr_bal = self.__custr_bal - draw_amt\n",
    "            \n",
    "            return f'your account has been debited with amount {draw_amt}, now your available balance is {self.__custr_bal}'\n",
    "        else:\n",
    "            print('insufficient fund in your account')\n",
    "\n",
    "customer1 = Bank_account('somesh dash', '12345678910', 500)\n",
    "\n",
    "                "
   ]
  },
  {
   "cell_type": "markdown",
   "metadata": {},
   "source": [
    "###  11. Write a class that overrides the `__str__` and `__add__` magic methods. What will these methods allow you to do?"
   ]
  },
  {
   "cell_type": "code",
   "execution_count": 18,
   "metadata": {},
   "outputs": [
    {
     "name": "stdout",
     "output_type": "stream",
     "text": [
      "MyCustomClass object with value: 10\n",
      "MyCustomClass object with value: 20\n",
      "MyCustomClass object with value: 30\n"
     ]
    }
   ],
   "source": [
    "'''\n",
    "  -> __str__ will return a string representation of method\n",
    "  -> this method overloads the print statement of object method\n",
    "\n",
    "\n",
    "  -> __add__ is called when you use the + operator on two instances of Class(obj1 and obj2).\n",
    "  -> It defines how the addition is performing for objects of this class.\n",
    "\n",
    "'''\n",
    "\n",
    "class MyClass:\n",
    "    def __init__(self, value):\n",
    "        self.value = value\n",
    "\n",
    "    def __str__(self):\n",
    "        return f\"MyCustomClass object with value: {self.value}\"\n",
    "\n",
    "    def __add__(self, other):\n",
    "        if type(other) == MyClass:\n",
    "            return MyClass(self.value + other.value)\n",
    "        else:\n",
    "            return None\n",
    "        \n",
    "obj1 = MyClass(10)\n",
    "obj2 = MyClass(20)\n",
    "obj3 = obj1 + obj2\n",
    "\n",
    "\n",
    "print(obj1)  ## __str__\n",
    "print(obj2)  ## __add__\n",
    "print(obj3)  "
   ]
  },
  {
   "cell_type": "markdown",
   "metadata": {},
   "source": [
    "###  12. Create a decorator that measures and prints the execution time of a function."
   ]
  },
  {
   "cell_type": "code",
   "execution_count": 17,
   "metadata": {},
   "outputs": [
    {
     "name": "stdout",
     "output_type": "stream",
     "text": [
      "110002558585511513462189307999019389149664\n",
      "The time for executing the code 0.0019495487213134766\n"
     ]
    }
   ],
   "source": [
    "import time\n",
    "def timer_decorator(func):\n",
    "    def timer():\n",
    "        start = time.time()\n",
    "        func()\n",
    "        end = time.time()\n",
    "        print('The time for executing the code', end - start)\n",
    "    return timer\n",
    "\n",
    "@timer_decorator\n",
    "def func_test():\n",
    "    print(11000000156445644456 * 10000232456456245645644)\n",
    "    \n",
    "func_test()"
   ]
  },
  {
   "cell_type": "markdown",
   "metadata": {},
   "source": [
    "###  13. Explain the concept of the Diamond Problem in multiple inheritance. How does Python resolve it?"
   ]
  },
  {
   "cell_type": "code",
   "execution_count": 38,
   "metadata": {},
   "outputs": [
    {
     "name": "stdout",
     "output_type": "stream",
     "text": [
      "This is property of B\n"
     ]
    }
   ],
   "source": [
    "class A:\n",
    "    def A_property(self):\n",
    "        print('This is property of A')\n",
    "class B(A):\n",
    "    def B_property(self):\n",
    "        print('This is property of B')\n",
    "class C(A):   \n",
    "    def B_property(self): \n",
    "        print('This is property of C')\n",
    "class D(B, C):   ## change here which one want first to print\n",
    "    pass\n",
    "        \n",
    "Tizori = D()\n",
    "Tizori.B_property()\n",
    "\n",
    "'''\n",
    " in multiple inheritance one child class may inherit the property of multiple parent class.\n",
    " if a class inheritance from 2 or more than 2 class will lead to ambiguity in execution of methods.\n",
    " to remove the diamond problem python uses a method resoluction order (MRO) algorithms called c3 linearization.\n",
    " it means that the class that is inherited first in the derived class, that method will be executed first.\n",
    "\n",
    "\n",
    " here the MRO for class D is \" D, B, C and A \", means when D.B_property() get call then the flow of the python search is as follow\n",
    "    it will directly access D, then B, then C, at last A\n",
    "     def B_property(self):\n",
    "        print('This is property of B')\n",
    "        this method is found in B\n",
    "        so that B_property get executed\n",
    "'''"
   ]
  },
  {
   "cell_type": "markdown",
   "metadata": {},
   "source": [
    " ### 14. Write a class method that keeps track of the number of instances created from a class."
   ]
  },
  {
   "cell_type": "code",
   "execution_count": 22,
   "metadata": {},
   "outputs": [
    {
     "name": "stdout",
     "output_type": "stream",
     "text": [
      "Number of instances created: 3\n"
     ]
    }
   ],
   "source": [
    "class counter_class:\n",
    "\n",
    "    instance_count = 0\n",
    "\n",
    "    def __init__(self):\n",
    "        counter_class.instance_count += 1\n",
    "\n",
    "    @classmethod\n",
    "    def get_count(cls):\n",
    "        return cls.instance_count\n",
    "    \n",
    "obj1 = counter_class()\n",
    "obj2 = counter_class()\n",
    "obj3 = counter_class()\n",
    "\n",
    "total_count = counter_class.get_count()\n",
    "print(\"Number of instances created:\", total_count)"
   ]
  },
  {
   "cell_type": "markdown",
   "metadata": {},
   "source": [
    "###  15. Implement a static method in a class that checks if a given year is a leap year."
   ]
  },
  {
   "cell_type": "code",
   "execution_count": 35,
   "metadata": {},
   "outputs": [
    {
     "name": "stdout",
     "output_type": "stream",
     "text": [
      "No 2034 is not a leap year\n"
     ]
    }
   ],
   "source": [
    "class find_leap_year:\n",
    "    \n",
    "    @staticmethod\n",
    "    def check_leap(y):\n",
    "        if y % 4 == 0:\n",
    "            if y % 100 == 0:\n",
    "                if y % 400 == 0:\n",
    "                    return print(f'yeah !! {y} is a leap year')\n",
    "                else:\n",
    "                    return print(f'No {y} is not a leap year')\n",
    "            else:\n",
    "                return print(f'yeah !! {y} is a leap year')\n",
    "        else:\n",
    "            return print(f'No {y} is not a leap year')\n",
    "        \n",
    "findleap_year = find_leap_year.check_leap(2034)\n"
   ]
  }
 ],
 "metadata": {
  "kernelspec": {
   "display_name": "Python 3",
   "language": "python",
   "name": "python3"
  },
  "language_info": {
   "codemirror_mode": {
    "name": "ipython",
    "version": 3
   },
   "file_extension": ".py",
   "mimetype": "text/x-python",
   "name": "python",
   "nbconvert_exporter": "python",
   "pygments_lexer": "ipython3",
   "version": "3.12.5"
  }
 },
 "nbformat": 4,
 "nbformat_minor": 2
}
